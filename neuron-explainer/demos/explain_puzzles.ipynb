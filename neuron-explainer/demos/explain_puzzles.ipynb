{
 "cells": [
  {
   "cell_type": "code",
   "execution_count": 1,
   "metadata": {},
   "outputs": [],
   "source": [
    "%load_ext autoreload\n",
    "%autoreload 2"
   ]
  },
  {
   "cell_type": "code",
   "execution_count": 2,
   "metadata": {},
   "outputs": [
    {
     "name": "stdout",
     "output_type": "stream",
     "text": [
      "puzzle_name='colors'\n",
      "!! now making request\n",
      "!!url = https://ai.liaobots.work/v1/chat/completions\n",
      "!!API_HTTP_HEADERS = {'Content-Type': 'application/json', 'Authorization': 'Bearer 36lz5h4ONaxXc'}\n",
      "!!json = {'n': 1, 'max_tokens': 60, 'temperature': 1.0, 'top_p': 1.0, 'messages': [{'role': <Role.SYSTEM: 'system'>, 'content': \"We're studying neurons in a neural network. Each neuron looks for some particular thing in a short document. Look at the parts of the document the neuron activates for and summarize in a single sentence what the neuron is looking for. Don't list examples of words.\\n\\nThe activation format is token<tab>activation. Activation values range from 0 to 10. A neuron finding what it's looking for is represented by a non-zero activation value. The higher the activation value, the stronger the match.\"}, {'role': <Role.USER: 'user'>, 'content': \"\\n\\nNeuron 1\\nActivations:\\n<start>\\nt\\t0\\nurt\\t0\\nur\\t0\\nro\\t0\\n is\\t0\\n fab\\t0\\nulously\\t0\\n funny\\t0\\n and\\t0\\n over\\t0\\n the\\t0\\n top\\t0\\n as\\t0\\n a\\t0\\n '\\t0\\nvery\\t0\\n sneaky\\t0\\n'\\t1\\n but\\t0\\nler\\t0\\n who\\t0\\n excel\\t0\\ns\\t0\\n in\\t0\\n the\\t0\\n art\\t0\\n of\\t0\\n impossible\\t0\\n disappearing\\t6\\n/\\t0\\nre\\t0\\napp\\t0\\nearing\\t10\\n acts\\t0\\n<end>\\n<start>\\nesc\\t0\\naping\\t9\\n the\\t4\\n studio\\t0\\n ,\\t0\\n pic\\t0\\ncol\\t0\\ni\\t0\\n is\\t0\\n warm\\t0\\nly\\t0\\n affecting\\t3\\n and\\t0\\n so\\t0\\n is\\t0\\n this\\t0\\n ad\\t0\\nroit\\t0\\nly\\t0\\n minimalist\\t0\\n movie\\t0\\n .\\t0\\n<end>\\n\\nSame activations, but with all zeros filtered out:\\n<start>\\n'\\t1\\n disappearing\\t6\\nearing\\t10\\n<end>\\n<start>\\naping\\t9\\n the\\t4\\n affecting\\t3\\n<end>\\n\\nExplanation of neuron 1 behavior: the main thing this neuron does is find\"}, {'role': <Role.ASSISTANT: 'assistant'>, 'content': \" present tense verbs ending in 'ing'.\"}, {'role': <Role.USER: 'user'>, 'content': \"\\n\\nNeuron 2\\nActivations:\\n<start>\\nas\\t0\\n sac\\t0\\nchar\\t0\\nine\\t0\\n movies\\t0\\n go\\t0\\n ,\\t0\\n this\\t0\\n is\\t0\\n likely\\t0\\n to\\t0\\n cause\\t0\\n massive\\t0\\n cardiac\\t0\\n arrest\\t10\\n if\\t0\\n taken\\t0\\n in\\t0\\n large\\t0\\n doses\\t0\\n .\\t0\\n<end>\\n<start>\\nshot\\t0\\n perhaps\\t0\\n '\\t0\\nart\\t0\\nistically\\t0\\n'\\t0\\n with\\t0\\n handheld\\t0\\n cameras\\t0\\n and\\t0\\n apparently\\t0\\n no\\t0\\n movie\\t0\\n lights\\t0\\n by\\t0\\n jo\\t0\\naquin\\t0\\n b\\t0\\naca\\t0\\n-\\t0\\nas\\t0\\nay\\t0\\n ,\\t0\\n the\\t0\\n low\\t0\\n-\\t0\\nbudget\\t0\\n production\\t0\\n swings\\t0\\n annoy\\t0\\ningly\\t0\\n between\\t0\\n vert\\t0\\nigo\\t9\\n and\\t0\\n opacity\\t0\\n .\\t0\\n<end>\\n\\nSame activations, but with all zeros filtered out:\\n<start>\\n arrest\\t10\\n<end>\\n<start>\\nigo\\t9\\n<end>\\n\\nExplanation of neuron 2 behavior: the main thing this neuron does is find\"}, {'role': <Role.ASSISTANT: 'assistant'>, 'content': ' words related to physical medical conditions.'}, {'role': <Role.USER: 'user'>, 'content': \"\\n\\nNeuron 3\\nActivations:\\n<start>\\nthe\\t0\\n sense\\t0\\n of\\t0\\n together\\t3\\nness\\t7\\n in\\t0\\n our\\t0\\n town\\t1\\n is\\t0\\n strong\\t0\\n .\\t0\\n<end>\\n<start>\\na\\t0\\n buoy\\t0\\nant\\t0\\n romantic\\t0\\n comedy\\t0\\n about\\t0\\n friendship\\t0\\n ,\\t0\\n love\\t0\\n ,\\t0\\n and\\t0\\n the\\t0\\n truth\\t0\\n that\\t0\\n we\\t2\\n're\\t4\\n all\\t3\\n in\\t7\\n this\\t10\\n together\\t5\\n .\\t0\\n<end>\\n\\nExplanation of neuron 3 behavior: the main thing this neuron does is find\"}, {'role': <Role.ASSISTANT: 'assistant'>, 'content': ' phrases related to community.'}, {'role': <Role.USER: 'user'>, 'content': \"\\n\\nNeuron 4\\nActivations:\\n<start>\\nGreen\\t9\\n smoke\\t0\\n,\\t0\\n and\\t0\\n yellow\\t9\\n flames\\t0\\n,\\t0\\n and\\t0\\n red\\t9\\n fire\\t0\\n,\\t0\\n and\\t0\\n black\\t9\\n ash\\t0\\n,\\t0\\n and\\t0\\n the\\t0\\n smell\\t0\\n of\\t0\\n burning\\t0\\n.\\t0\\n<end>\\n<start>\\nHis\\t0\\n shoes\\t0\\n were\\t0\\n black\\t9\\n,\\t0\\n but\\t0\\n his\\t0\\n socks\\t0\\n were\\t0\\n bright\\t0\\n yellow\\t10\\n.\\t0\\n<end>\\n<start>\\nOn\\t0\\n a\\t0\\n run\\t0\\n down\\t0\\n ship\\t0\\n,\\t0\\n sailing\\t0\\n a\\t0\\n wine\\t0\\n-dark\\t7\\n sea\\t0\\n,\\t0\\n I\\t0\\n searched\\t0\\n for\\t0\\n the\\t0\\n island\\t0\\n of\\t0\\n my\\t0\\n birth\\t0\\n.\\t0\\n<end>\\n<start>\\nRed\\t9\\n,\\t0\\n yellow\\t9\\n,\\t0\\n orange\\t9\\n,\\t0\\n purple\\t9\\n:\\t0\\n the\\t0\\n diversity\\t0\\n and\\t0\\n aroma\\t0\\n of\\t0\\n spices\\t0\\n overwhelmed\\t0\\n her\\t0\\n senses\\t0\\n.\\t0\\n<end>\\n<start>\\nSome\\t0\\n might\\t0\\n say\\t0\\n that\\t0\\n turquoise\\t9\\n is\\t0\\n blue\\t9\\n,\\t0\\n but\\t0\\n I\\t0\\n think\\t0\\n it\\t0\\n's\\t0\\n more\\t0\\n of\\t0\\n a\\t0\\n blue\\t9\\n-green\\t9\\n.\\t0\\n<end>\\n<start>\\nWith\\t0\\n the\\t0\\n dog\\t0\\n days\\t0\\n of\\t0\\n august\\t0\\n upon\\t0\\n us\\t0\\n,\\t0\\n think\\t0\\n of\\t0\\n this\\t0\\n dog\\t0\\n of\\t0\\n a\\t0\\n book\\t0\\n as\\t0\\n the\\t0\\n literary\\t0\\n equivalent\\t0\\n of\\t0\\n high\\t0\\n humidity\\t0\\n.\\t0\\n<end>\\n\\nSame activations, but with all zeros filtered out:\\n<start>\\nGreen\\t9\\n yellow\\t9\\n red\\t9\\n black\\t9\\n<end>\\n<start>\\n black\\t9\\n yellow\\t10\\n<end>\\n<start>\\n-dark\\t7\\n<end>\\n<start>\\nRed\\t9\\n yellow\\t9\\n orange\\t9\\n purple\\t9\\n<end>\\n<start>\\n turquoise\\t9\\n blue\\t9\\n blue\\t9\\n-green\\t9\\n<end>\\n<start>\\n\\n<end>\\n\\nExplanation of neuron 4 behavior: the main thing this neuron does is find\"}], 'model': 'gpt-4'}\n",
      "error, 401\n",
      "Response text: Unauthorized\n"
     ]
    },
    {
     "ename": "JSONDecodeError",
     "evalue": "Expecting value: line 1 column 1 (char 0)",
     "output_type": "error",
     "traceback": [
      "\u001b[0;31m---------------------------------------------------------------------------\u001b[0m",
      "\u001b[0;31mJSONDecodeError\u001b[0m                           Traceback (most recent call last)",
      "File \u001b[0;32m~/miniconda3/envs/py3.9_autoInter/lib/python3.9/site-packages/requests/models.py:974\u001b[0m, in \u001b[0;36mResponse.json\u001b[0;34m(self, **kwargs)\u001b[0m\n\u001b[1;32m    973\u001b[0m \u001b[38;5;28;01mtry\u001b[39;00m:\n\u001b[0;32m--> 974\u001b[0m     \u001b[38;5;28;01mreturn\u001b[39;00m \u001b[43mcomplexjson\u001b[49m\u001b[38;5;241;43m.\u001b[39;49m\u001b[43mloads\u001b[49m\u001b[43m(\u001b[49m\u001b[38;5;28;43mself\u001b[39;49m\u001b[38;5;241;43m.\u001b[39;49m\u001b[43mtext\u001b[49m\u001b[43m,\u001b[49m\u001b[43m \u001b[49m\u001b[38;5;241;43m*\u001b[39;49m\u001b[38;5;241;43m*\u001b[39;49m\u001b[43mkwargs\u001b[49m\u001b[43m)\u001b[49m\n\u001b[1;32m    975\u001b[0m \u001b[38;5;28;01mexcept\u001b[39;00m JSONDecodeError \u001b[38;5;28;01mas\u001b[39;00m e:\n\u001b[1;32m    976\u001b[0m     \u001b[38;5;66;03m# Catch JSON-related errors and raise as requests.JSONDecodeError\u001b[39;00m\n\u001b[1;32m    977\u001b[0m     \u001b[38;5;66;03m# This aliases json.JSONDecodeError and simplejson.JSONDecodeError\u001b[39;00m\n",
      "File \u001b[0;32m~/miniconda3/envs/py3.9_autoInter/lib/python3.9/json/__init__.py:346\u001b[0m, in \u001b[0;36mloads\u001b[0;34m(s, cls, object_hook, parse_float, parse_int, parse_constant, object_pairs_hook, **kw)\u001b[0m\n\u001b[1;32m    343\u001b[0m \u001b[38;5;28;01mif\u001b[39;00m (\u001b[38;5;28mcls\u001b[39m \u001b[38;5;129;01mis\u001b[39;00m \u001b[38;5;28;01mNone\u001b[39;00m \u001b[38;5;129;01mand\u001b[39;00m object_hook \u001b[38;5;129;01mis\u001b[39;00m \u001b[38;5;28;01mNone\u001b[39;00m \u001b[38;5;129;01mand\u001b[39;00m\n\u001b[1;32m    344\u001b[0m         parse_int \u001b[38;5;129;01mis\u001b[39;00m \u001b[38;5;28;01mNone\u001b[39;00m \u001b[38;5;129;01mand\u001b[39;00m parse_float \u001b[38;5;129;01mis\u001b[39;00m \u001b[38;5;28;01mNone\u001b[39;00m \u001b[38;5;129;01mand\u001b[39;00m\n\u001b[1;32m    345\u001b[0m         parse_constant \u001b[38;5;129;01mis\u001b[39;00m \u001b[38;5;28;01mNone\u001b[39;00m \u001b[38;5;129;01mand\u001b[39;00m object_pairs_hook \u001b[38;5;129;01mis\u001b[39;00m \u001b[38;5;28;01mNone\u001b[39;00m \u001b[38;5;129;01mand\u001b[39;00m \u001b[38;5;129;01mnot\u001b[39;00m kw):\n\u001b[0;32m--> 346\u001b[0m     \u001b[38;5;28;01mreturn\u001b[39;00m \u001b[43m_default_decoder\u001b[49m\u001b[38;5;241;43m.\u001b[39;49m\u001b[43mdecode\u001b[49m\u001b[43m(\u001b[49m\u001b[43ms\u001b[49m\u001b[43m)\u001b[49m\n\u001b[1;32m    347\u001b[0m \u001b[38;5;28;01mif\u001b[39;00m \u001b[38;5;28mcls\u001b[39m \u001b[38;5;129;01mis\u001b[39;00m \u001b[38;5;28;01mNone\u001b[39;00m:\n",
      "File \u001b[0;32m~/miniconda3/envs/py3.9_autoInter/lib/python3.9/json/decoder.py:337\u001b[0m, in \u001b[0;36mJSONDecoder.decode\u001b[0;34m(self, s, _w)\u001b[0m\n\u001b[1;32m    333\u001b[0m \u001b[38;5;250m\u001b[39m\u001b[38;5;124;03m\"\"\"Return the Python representation of ``s`` (a ``str`` instance\u001b[39;00m\n\u001b[1;32m    334\u001b[0m \u001b[38;5;124;03mcontaining a JSON document).\u001b[39;00m\n\u001b[1;32m    335\u001b[0m \n\u001b[1;32m    336\u001b[0m \u001b[38;5;124;03m\"\"\"\u001b[39;00m\n\u001b[0;32m--> 337\u001b[0m obj, end \u001b[38;5;241m=\u001b[39m \u001b[38;5;28;43mself\u001b[39;49m\u001b[38;5;241;43m.\u001b[39;49m\u001b[43mraw_decode\u001b[49m\u001b[43m(\u001b[49m\u001b[43ms\u001b[49m\u001b[43m,\u001b[49m\u001b[43m \u001b[49m\u001b[43midx\u001b[49m\u001b[38;5;241;43m=\u001b[39;49m\u001b[43m_w\u001b[49m\u001b[43m(\u001b[49m\u001b[43ms\u001b[49m\u001b[43m,\u001b[49m\u001b[43m \u001b[49m\u001b[38;5;241;43m0\u001b[39;49m\u001b[43m)\u001b[49m\u001b[38;5;241;43m.\u001b[39;49m\u001b[43mend\u001b[49m\u001b[43m(\u001b[49m\u001b[43m)\u001b[49m\u001b[43m)\u001b[49m\n\u001b[1;32m    338\u001b[0m end \u001b[38;5;241m=\u001b[39m _w(s, end)\u001b[38;5;241m.\u001b[39mend()\n",
      "File \u001b[0;32m~/miniconda3/envs/py3.9_autoInter/lib/python3.9/json/decoder.py:355\u001b[0m, in \u001b[0;36mJSONDecoder.raw_decode\u001b[0;34m(self, s, idx)\u001b[0m\n\u001b[1;32m    354\u001b[0m \u001b[38;5;28;01mexcept\u001b[39;00m \u001b[38;5;167;01mStopIteration\u001b[39;00m \u001b[38;5;28;01mas\u001b[39;00m err:\n\u001b[0;32m--> 355\u001b[0m     \u001b[38;5;28;01mraise\u001b[39;00m JSONDecodeError(\u001b[38;5;124m\"\u001b[39m\u001b[38;5;124mExpecting value\u001b[39m\u001b[38;5;124m\"\u001b[39m, s, err\u001b[38;5;241m.\u001b[39mvalue) \u001b[38;5;28;01mfrom\u001b[39;00m \u001b[38;5;28;01mNone\u001b[39;00m\n\u001b[1;32m    356\u001b[0m \u001b[38;5;28;01mreturn\u001b[39;00m obj, end\n",
      "\u001b[0;31mJSONDecodeError\u001b[0m: Expecting value: line 1 column 1 (char 0)",
      "\nDuring handling of the above exception, another exception occurred:\n",
      "\u001b[0;31mJSONDecodeError\u001b[0m                           Traceback (most recent call last)",
      "Cell \u001b[0;32mIn[2], line 24\u001b[0m\n\u001b[1;32m     22\u001b[0m puzzle_answer \u001b[38;5;241m=\u001b[39m puzzle\u001b[38;5;241m.\u001b[39mexplanation\n\u001b[1;32m     23\u001b[0m \u001b[38;5;66;03m# Generate an explanation for the puzzle.\u001b[39;00m\n\u001b[0;32m---> 24\u001b[0m explanations \u001b[38;5;241m=\u001b[39m \u001b[38;5;28;01mawait\u001b[39;00m explainer\u001b[38;5;241m.\u001b[39mgenerate_explanations(\n\u001b[1;32m     25\u001b[0m     all_activation_records\u001b[38;5;241m=\u001b[39mpuzzle\u001b[38;5;241m.\u001b[39mactivation_records,\n\u001b[1;32m     26\u001b[0m     max_activation\u001b[38;5;241m=\u001b[39mcalculate_max_activation(puzzle\u001b[38;5;241m.\u001b[39mactivation_records),\n\u001b[1;32m     27\u001b[0m     num_samples\u001b[38;5;241m=\u001b[39m\u001b[38;5;241m1\u001b[39m,\n\u001b[1;32m     28\u001b[0m )\n\u001b[1;32m     29\u001b[0m \u001b[38;5;28;01massert\u001b[39;00m \u001b[38;5;28mlen\u001b[39m(explanations) \u001b[38;5;241m==\u001b[39m \u001b[38;5;241m1\u001b[39m\n\u001b[1;32m     30\u001b[0m model_generated_explanation \u001b[38;5;241m=\u001b[39m explanations[\u001b[38;5;241m0\u001b[39m]\n",
      "File \u001b[0;32m~/ML_jq/neuronExpainer/automated-interpretability/neuron-explainer/neuron_explainer/explanations/explainer.py:125\u001b[0m, in \u001b[0;36mNeuronExplainer.generate_explanations\u001b[0;34m(self, num_samples, max_tokens, temperature, top_p, **prompt_kwargs)\u001b[0m\n\u001b[1;32m    122\u001b[0m     generate_kwargs[\u001b[38;5;124m\"\u001b[39m\u001b[38;5;124mprompt\u001b[39m\u001b[38;5;124m\"\u001b[39m] \u001b[38;5;241m=\u001b[39m prompt\n\u001b[1;32m    124\u001b[0m \u001b[38;5;28mprint\u001b[39m(\u001b[38;5;124m\"\u001b[39m\u001b[38;5;124m!! now making request\u001b[39m\u001b[38;5;124m\"\u001b[39m)\n\u001b[0;32m--> 125\u001b[0m response \u001b[38;5;241m=\u001b[39m \u001b[38;5;28;01mawait\u001b[39;00m \u001b[38;5;28;43mself\u001b[39;49m\u001b[38;5;241;43m.\u001b[39;49m\u001b[43mclient\u001b[49m\u001b[38;5;241;43m.\u001b[39;49m\u001b[43mmake_request\u001b[49m\u001b[43m(\u001b[49m\u001b[38;5;241;43m*\u001b[39;49m\u001b[38;5;241;43m*\u001b[39;49m\u001b[43mgenerate_kwargs\u001b[49m\u001b[43m)\u001b[49m\n\u001b[1;32m    126\u001b[0m \u001b[38;5;28mprint\u001b[39m(\u001b[38;5;124m\"\u001b[39m\u001b[38;5;124m!! making request done\u001b[39m\u001b[38;5;124m\"\u001b[39m)\n\u001b[1;32m    127\u001b[0m logger\u001b[38;5;241m.\u001b[39mdebug(\u001b[38;5;124m\"\u001b[39m\u001b[38;5;124mresponse in generate_explanations is \u001b[39m\u001b[38;5;132;01m%s\u001b[39;00m\u001b[38;5;124m\"\u001b[39m, response)\n",
      "File \u001b[0;32m~/ML_jq/neuronExpainer/automated-interpretability/neuron-explainer/neuron_explainer/api_client.py:194\u001b[0m, in \u001b[0;36mApiClient.make_request\u001b[0;34m(self, timeout_seconds, **kwargs)\u001b[0m\n\u001b[1;32m    192\u001b[0m     \u001b[38;5;28mprint\u001b[39m(\u001b[38;5;124mf\u001b[39m\u001b[38;5;124m\"\u001b[39m\u001b[38;5;124merror, \u001b[39m\u001b[38;5;132;01m{\u001b[39;00mresponse\u001b[38;5;241m.\u001b[39mstatus_code\u001b[38;5;132;01m}\u001b[39;00m\u001b[38;5;124m\"\u001b[39m)\n\u001b[1;32m    193\u001b[0m     \u001b[38;5;28mprint\u001b[39m(\u001b[38;5;124m\"\u001b[39m\u001b[38;5;124mResponse text:\u001b[39m\u001b[38;5;124m\"\u001b[39m, response\u001b[38;5;241m.\u001b[39mtext)  \u001b[38;5;66;03m# 打印响应内容\u001b[39;00m\n\u001b[0;32m--> 194\u001b[0m     \u001b[38;5;28mprint\u001b[39m(\u001b[43mresponse\u001b[49m\u001b[38;5;241;43m.\u001b[39;49m\u001b[43mjson\u001b[49m\u001b[43m(\u001b[49m\u001b[43m)\u001b[49m)  \u001b[38;5;66;03m# 打印错误信息\u001b[39;00m\n\u001b[1;32m    195\u001b[0m     \u001b[38;5;28;01mraise\u001b[39;00m e\n\u001b[1;32m    197\u001b[0m \u001b[38;5;28;01mif\u001b[39;00m \u001b[38;5;28mself\u001b[39m\u001b[38;5;241m.\u001b[39m_cache \u001b[38;5;129;01mis\u001b[39;00m \u001b[38;5;129;01mnot\u001b[39;00m \u001b[38;5;28;01mNone\u001b[39;00m:\n",
      "File \u001b[0;32m~/miniconda3/envs/py3.9_autoInter/lib/python3.9/site-packages/requests/models.py:978\u001b[0m, in \u001b[0;36mResponse.json\u001b[0;34m(self, **kwargs)\u001b[0m\n\u001b[1;32m    974\u001b[0m     \u001b[38;5;28;01mreturn\u001b[39;00m complexjson\u001b[38;5;241m.\u001b[39mloads(\u001b[38;5;28mself\u001b[39m\u001b[38;5;241m.\u001b[39mtext, \u001b[38;5;241m*\u001b[39m\u001b[38;5;241m*\u001b[39mkwargs)\n\u001b[1;32m    975\u001b[0m \u001b[38;5;28;01mexcept\u001b[39;00m JSONDecodeError \u001b[38;5;28;01mas\u001b[39;00m e:\n\u001b[1;32m    976\u001b[0m     \u001b[38;5;66;03m# Catch JSON-related errors and raise as requests.JSONDecodeError\u001b[39;00m\n\u001b[1;32m    977\u001b[0m     \u001b[38;5;66;03m# This aliases json.JSONDecodeError and simplejson.JSONDecodeError\u001b[39;00m\n\u001b[0;32m--> 978\u001b[0m     \u001b[38;5;28;01mraise\u001b[39;00m RequestsJSONDecodeError(e\u001b[38;5;241m.\u001b[39mmsg, e\u001b[38;5;241m.\u001b[39mdoc, e\u001b[38;5;241m.\u001b[39mpos)\n",
      "\u001b[0;31mJSONDecodeError\u001b[0m: Expecting value: line 1 column 1 (char 0)"
     ]
    }
   ],
   "source": [
    "import os\n",
    "\n",
    "# os.environ[\"OPENAI_API_KEY\"] = \"36lz5h4ONaxXc\"\n",
    "os.environ[\"OPENAI_API_KEY\"] = \"sk-GxUUtqZcVLu94WtfWBpU5vJHVSjITfyr2CxxnCT78CIMklZQ\"\n",
    "\n",
    "from neuron_explainer.activations.activation_records import calculate_max_activation\n",
    "from neuron_explainer.explanations.explainer import TokenActivationPairExplainer\n",
    "from neuron_explainer.explanations.prompt_builder import PromptFormat\n",
    "from neuron_explainer.explanations.puzzles import PUZZLES_BY_NAME\n",
    "\n",
    "\n",
    "EXPLAINER_MODEL_NAME = \"gpt-4\"\n",
    "\n",
    "explainer = TokenActivationPairExplainer(\n",
    "    model_name=EXPLAINER_MODEL_NAME,\n",
    "    prompt_format=PromptFormat.HARMONY_V4,\n",
    "    max_concurrent=1,\n",
    ")\n",
    "\n",
    "for puzzle_name, puzzle in PUZZLES_BY_NAME.items():\n",
    "    print(f\"{puzzle_name=}\")\n",
    "    puzzle_answer = puzzle.explanation\n",
    "    # Generate an explanation for the puzzle.\n",
    "    explanations = await explainer.generate_explanations(\n",
    "        all_activation_records=puzzle.activation_records,\n",
    "        max_activation=calculate_max_activation(puzzle.activation_records),\n",
    "        num_samples=1,\n",
    "    )\n",
    "    assert len(explanations) == 1\n",
    "    model_generated_explanation = explanations[0]\n",
    "    print(f\"{model_generated_explanation=}\")\n",
    "    print(f\"{puzzle_answer=}\\n\")\n",
    "\n"
   ]
  }
 ],
 "metadata": {
  "kernelspec": {
   "display_name": "py3.9_autoInter",
   "language": "python",
   "name": "python3"
  },
  "language_info": {
   "codemirror_mode": {
    "name": "ipython",
    "version": 3
   },
   "file_extension": ".py",
   "mimetype": "text/x-python",
   "name": "python",
   "nbconvert_exporter": "python",
   "pygments_lexer": "ipython3",
   "version": "3.9.20"
  },
  "orig_nbformat": 4
 },
 "nbformat": 4,
 "nbformat_minor": 2
}
